{
 "cells": [
  {
   "cell_type": "code",
   "execution_count": 1,
   "id": "9c89d1e7-0950-4f68-a41f-5b88ba559ead",
   "metadata": {},
   "outputs": [],
   "source": [
    "# QUESTION 1\n",
    "\n",
    "l=[('Sachin Tendulkar', 34357), ('Ricky Ponting', 27483), ('Jack Kallis', 25534), ('Virat Kohli', 24936)]"
   ]
  },
  {
   "cell_type": "code",
   "execution_count": 15,
   "id": "ebb5590d-3aba-4d1d-962c-e4be22e3d4c1",
   "metadata": {},
   "outputs": [],
   "source": [
    "sorted_data=sorted(l,key=lambda x:x[1])"
   ]
  },
  {
   "cell_type": "code",
   "execution_count": 16,
   "id": "a09b3beb-d3fc-42a7-b57f-f53eccdcd36e",
   "metadata": {},
   "outputs": [
    {
     "data": {
      "text/plain": [
       "[('Virat Kohli', 24936),\n",
       " ('Jack Kallis', 25534),\n",
       " ('Ricky Ponting', 27483),\n",
       " ('Sachin Tendulkar', 34357)]"
      ]
     },
     "execution_count": 16,
     "metadata": {},
     "output_type": "execute_result"
    }
   ],
   "source": [
    "sorted_data"
   ]
  },
  {
   "cell_type": "code",
   "execution_count": 18,
   "id": "32b5c264-a91b-4268-bb9a-7540df00eb06",
   "metadata": {},
   "outputs": [],
   "source": [
    "# QUESTION 2\n",
    "\n",
    "l=[1, 2, 3, 4, 5, 6, 7, 8, 9, 10]"
   ]
  },
  {
   "cell_type": "code",
   "execution_count": 19,
   "id": "552f9878-8011-4f86-b26b-7e6f7ce37976",
   "metadata": {},
   "outputs": [
    {
     "data": {
      "text/plain": [
       "[1, 4, 9, 16, 25, 36, 49, 64, 81, 100]"
      ]
     },
     "execution_count": 19,
     "metadata": {},
     "output_type": "execute_result"
    }
   ],
   "source": [
    "list(map(lambda x:x**2,l))"
   ]
  },
  {
   "cell_type": "code",
   "execution_count": 21,
   "id": "5fc4ec72-6c4d-4a32-838c-9c81ebf8f454",
   "metadata": {},
   "outputs": [
    {
     "data": {
      "text/plain": [
       "['1', '2', '3', '4', '5', '6', '7', '8', '9', '10']"
      ]
     },
     "execution_count": 21,
     "metadata": {},
     "output_type": "execute_result"
    }
   ],
   "source": [
    "# QUESTION 3\n",
    "\n",
    "Given_String=[1, 2, 3, 4, 5, 6, 7, 8, 9, 10]\n",
    "\n",
    "list(map(lambda x:str(x),l))"
   ]
  },
  {
   "cell_type": "code",
   "execution_count": 25,
   "id": "36758a0f-08b6-48bb-b3c4-8c84baf4532d",
   "metadata": {},
   "outputs": [],
   "source": [
    "# QUESTION 4\n",
    "l=list(range(1,26))\n"
   ]
  },
  {
   "cell_type": "code",
   "execution_count": 26,
   "id": "a2e3e6c5-a2f9-4cf2-9af4-9ea11e8112c0",
   "metadata": {},
   "outputs": [],
   "source": [
    "from functools import reduce\n"
   ]
  },
  {
   "cell_type": "code",
   "execution_count": 28,
   "id": "cd7f1f08-56e8-4e9f-a732-c66d11a58fd3",
   "metadata": {},
   "outputs": [
    {
     "data": {
      "text/plain": [
       "15511210043330985984000000"
      ]
     },
     "execution_count": 28,
     "metadata": {},
     "output_type": "execute_result"
    }
   ],
   "source": [
    "reduce(lambda x,y:x*y,l)"
   ]
  },
  {
   "cell_type": "code",
   "execution_count": 30,
   "id": "a84839c9-ac94-4383-9f38-4bfb07e19366",
   "metadata": {},
   "outputs": [],
   "source": [
    "# QUESTION 5\n",
    "l=[2, 3, 6, 9, 27, 60, 90, 120, 55, 46]"
   ]
  },
  {
   "cell_type": "code",
   "execution_count": 31,
   "id": "c143a442-2bbd-49e9-b5f5-ed04245ece86",
   "metadata": {},
   "outputs": [
    {
     "data": {
      "text/plain": [
       "[6, 60, 90, 120]"
      ]
     },
     "execution_count": 31,
     "metadata": {},
     "output_type": "execute_result"
    }
   ],
   "source": [
    "list(filter(lambda x:x%2==0 and x%3==0,l))"
   ]
  },
  {
   "cell_type": "code",
   "execution_count": 37,
   "id": "84283dcb-76ca-4806-a197-7adca05c2134",
   "metadata": {},
   "outputs": [],
   "source": [
    "#QUESTION 6\n",
    "\n",
    "l=['python', 'php', 'aba', 'radar', 'level']"
   ]
  },
  {
   "cell_type": "code",
   "execution_count": 38,
   "id": "f167fbc7-28ed-4a9a-a8d9-98c6074f3acc",
   "metadata": {},
   "outputs": [
    {
     "data": {
      "text/plain": [
       "['php', 'aba', 'radar', 'level']"
      ]
     },
     "execution_count": 38,
     "metadata": {},
     "output_type": "execute_result"
    }
   ],
   "source": [
    "list(filter(lambda x: x == x[::-1], l))"
   ]
  },
  {
   "cell_type": "code",
   "execution_count": null,
   "id": "e46524b5-0747-4309-949e-6d65c3a70710",
   "metadata": {},
   "outputs": [],
   "source": []
  },
  {
   "cell_type": "code",
   "execution_count": null,
   "id": "01c41566-67b0-413c-be7a-00118b75bb46",
   "metadata": {},
   "outputs": [],
   "source": []
  },
  {
   "cell_type": "code",
   "execution_count": null,
   "id": "3b1b8a8c-7548-412f-8726-ced30acf561e",
   "metadata": {},
   "outputs": [],
   "source": []
  },
  {
   "cell_type": "code",
   "execution_count": null,
   "id": "ebe0385d-5887-41a4-8ded-50a902345f71",
   "metadata": {},
   "outputs": [],
   "source": []
  }
 ],
 "metadata": {
  "kernelspec": {
   "display_name": "Python 3 (ipykernel)",
   "language": "python",
   "name": "python3"
  },
  "language_info": {
   "codemirror_mode": {
    "name": "ipython",
    "version": 3
   },
   "file_extension": ".py",
   "mimetype": "text/x-python",
   "name": "python",
   "nbconvert_exporter": "python",
   "pygments_lexer": "ipython3",
   "version": "3.10.8"
  }
 },
 "nbformat": 4,
 "nbformat_minor": 5
}
